{
 "cells": [
  {
   "cell_type": "markdown",
   "id": "29ddaab6",
   "metadata": {},
   "source": [
    "### Grocery Store Checkout App by Chisom Maduka"
   ]
  },
  {
   "cell_type": "markdown",
   "id": "c2ac7774",
   "metadata": {},
   "source": [
    "#### Your friend operates a grocery store and sells the following items:\n",
    "1. Beverages: chocolate drinks, coffee, tea, soy drinks, pop and soda\n",
    "2. Phone accessories: carrying case, earpieces, screen guards\n",
    "3. Toiletries: toilet paper, body soap, scrubs, body cream, shampoo\n",
    "4. Pastry: pizza, burgers, donuts, muffins,cheesecakes\n",
    "5. Cosmetics: perfumes, vanishes, nail polish, deodorants, facial scrubs\n",
    "\n",
    "Your friend wants to be able to record each sale and automatically compute total sale for a customer at checkout and generate a receipt for the customer.\n",
    "As part of the requirements,\n",
    "\n",
    "1. App should store information about the products by category in the store\n",
    "2. Store automatically update inventory of each product after sale or restocking\n",
    "3. Raise an alert if any product inventory falls below 5 pieces\n",
    "4. Store information about the purchase cost of each product and the sale price per unit\n",
    "5. Allow the store owner to enter sales per item for each customer and generate a total sales\n",
    "6. For each customer sales checkout:\n",
    "       a. Record sales by item and sales value\n",
    "       b. Show total sales by product\n",
    "       c. Show total sales by category\n",
    "       d. Show total sales for each day\n",
    "TASK:\n",
    "Use your acquired knowledge of python to implement the above requirements.\n",
    "Please note that this MUST be a script and not a GUI application. Use python variables, containers, user input functions, functions, conditional statements and loops as necessary."
   ]
  },
  {
   "cell_type": "markdown",
   "id": "f333058e",
   "metadata": {},
   "source": [
    "#### TO BUILD AN APP THAT MANAGES INVENTORY AND SALES\n",
    "##### 1. INVENTORY MANAGEMENT\n",
    "###### 1.1. Inventory Records\n",
    "    1.1.1. Application Workflow for Inventory Records\n",
    "###### 1.2. Inventory Updates\n",
    "    1.2.1. Product Restocking\n",
    "    1.2.2. Sales Reduction\n",
    "    1.2.3. Raise an alert if any product inventory falls below 5 pieces\n",
    "    1.2.4. Create a new category for the items not found\n",
    "##### 2. SALES RECEIPT GENERATION\n",
    "    2.1. Compute sales by items and for total items\n",
    "    2.2. Update inventory and sales record per item"
   ]
  },
  {
   "cell_type": "markdown",
   "id": "a98f60a7",
   "metadata": {},
   "source": [
    "#### 1. INVENTORY MANAGEMENT"
   ]
  },
  {
   "cell_type": "markdown",
   "id": "3fb3b67e",
   "metadata": {},
   "source": [
    "##### 1.1. Inventory Records\n",
    "###### 1.1.1. Application Workflow for Inventory Records\n",
    "1. Define and store product categories in a tuple\n",
    "2. Create a dictionary to hold products by category\n",
    "3. Create a dictionary for item inventory\n",
    "4. Loop through any kind of product from the dictionary and check its availability and corresponding inventory"
   ]
  },
  {
   "cell_type": "code",
   "execution_count": 1,
   "id": "03791a51",
   "metadata": {},
   "outputs": [],
   "source": [
    "# 1. Define and store product categories in a tuple\n",
    "\n",
    "prodCat=('beverages','PhoneAccessories', 'toiletries','pastry', 'cosmetics')\n",
    "\n",
    "# 2. Create a dictionary to hold products by category\n",
    "\n",
    "prodDict={'beverages':['chocDrinks', 'coffee', 'tea', 'soyDrinks', 'pop', 'soda'],\n",
    "          'PhoneAccessories':['carrynCase', 'earpiece', 'scrnGuards'], \n",
    "          'toiletries':['toiletPaper', 'bodySoap', 'scrubs', 'bodyCream', 'shampoo'],\n",
    "          'pastry':['pizza', 'burgers', 'donuts', 'muffins','cheesecakes'], \n",
    "          'cosmetics':['perfumes', 'vanishes', 'nailPolish', 'deodorants', 'facialScrubs']\n",
    "         }\n",
    "\n"
   ]
  },
  {
   "cell_type": "code",
   "execution_count": 2,
   "id": "7a959191",
   "metadata": {},
   "outputs": [
    {
     "data": {
      "text/plain": [
       "dict_keys(['beverages', 'PhoneAccessories', 'toiletries', 'pastry', 'cosmetics'])"
      ]
     },
     "execution_count": 2,
     "metadata": {},
     "output_type": "execute_result"
    }
   ],
   "source": [
    "'''Testing the code for product categories in the dictionary'''\n",
    "\n",
    "prodDict.keys()"
   ]
  },
  {
   "cell_type": "code",
   "execution_count": 3,
   "id": "cc3b5107",
   "metadata": {},
   "outputs": [
    {
     "data": {
      "text/plain": [
       "['carrynCase', 'earpiece', 'scrnGuards']"
      ]
     },
     "execution_count": 3,
     "metadata": {},
     "output_type": "execute_result"
    }
   ],
   "source": [
    "'''Testing for each item in a product category'''\n",
    "\n",
    "prodDict['PhoneAccessories']"
   ]
  },
  {
   "cell_type": "code",
   "execution_count": 4,
   "id": "297c6606",
   "metadata": {},
   "outputs": [
    {
     "data": {
      "text/plain": [
       "'chocDrinks'"
      ]
     },
     "execution_count": 4,
     "metadata": {},
     "output_type": "execute_result"
    }
   ],
   "source": [
    "'''Referencing with index position'''\n",
    "\n",
    "list(prodDict['beverages'])[0]"
   ]
  },
  {
   "cell_type": "code",
   "execution_count": 5,
   "id": "5c1f70e0",
   "metadata": {},
   "outputs": [
    {
     "name": "stdout",
     "output_type": "stream",
     "text": [
      "the product category is beverages\n",
      "chocDrinks is a member of beverages\n",
      "coffee is a member of beverages\n",
      "tea is a member of beverages\n",
      "soyDrinks is a member of beverages\n",
      "pop is a member of beverages\n",
      "soda is a member of beverages\n",
      "the product category is PhoneAccessories\n",
      "carrynCase is a member of PhoneAccessories\n",
      "earpiece is a member of PhoneAccessories\n",
      "scrnGuards is a member of PhoneAccessories\n",
      "the product category is toiletries\n",
      "toiletPaper is a member of toiletries\n",
      "bodySoap is a member of toiletries\n",
      "scrubs is a member of toiletries\n",
      "bodyCream is a member of toiletries\n",
      "shampoo is a member of toiletries\n",
      "the product category is pastry\n",
      "pizza is a member of pastry\n",
      "burgers is a member of pastry\n",
      "donuts is a member of pastry\n",
      "muffins is a member of pastry\n",
      "cheesecakes is a member of pastry\n",
      "the product category is cosmetics\n",
      "perfumes is a member of cosmetics\n",
      "vanishes is a member of cosmetics\n",
      "nailPolish is a member of cosmetics\n",
      "deodorants is a member of cosmetics\n",
      "facialScrubs is a member of cosmetics\n"
     ]
    }
   ],
   "source": [
    "'''call inventory for product categories from the product dictionary'''\n",
    "\n",
    "for k, v in prodDict.items():\n",
    "    print(f'the product category is {k}')\n",
    "    for prods in v:\n",
    "          print(f'{prods} is a member of {k}')"
   ]
  },
  {
   "cell_type": "code",
   "execution_count": 6,
   "id": "c2fdda31",
   "metadata": {},
   "outputs": [],
   "source": [
    "# 3. Creating the product inventory dictionaries\n",
    "\n",
    "bevDict= {'chocDrinks':111, 'coffee':52, 'tea':63, 'soyDrinks':14, 'pop':145, 'soda':46}\n",
    "phoneAccDict= {'carrynCase':37, 'earpiece':78, 'scrnGuards':90}\n",
    "toiDict= {'toiletPaper':100, 'bodySoap':161, 'scrubs':32, 'bodyCream':33, 'shampoo':84}\n",
    "pasDict= {'pizza':25, 'burgers':76, 'donuts':17, 'muffins':98,'cheesecakes':89}\n",
    "cosDict={'perfumes':70, 'vanishes':21, 'nailPolish':62, 'deodorants':43, 'facialScrubs':114}\n",
    "misDict={}"
   ]
  },
  {
   "cell_type": "code",
   "execution_count": 7,
   "id": "07e735e1",
   "metadata": {},
   "outputs": [
    {
     "name": "stdout",
     "output_type": "stream",
     "text": [
      "chocolate, not found in inventory\n"
     ]
    }
   ],
   "source": [
    "'''To confirm product availability in the inventory'''\n",
    "\n",
    "prodCheck = 'chocolate'\n",
    "\n",
    "if prodCheck in prodDict['beverages']:\n",
    "    currInvent = bevDict[prodCheck]\n",
    "    print(currInvent)\n",
    "\n",
    "else:\n",
    "    print(f'{prodCheck}, not found in inventory')"
   ]
  },
  {
   "cell_type": "code",
   "execution_count": 8,
   "id": "5b7d60a0",
   "metadata": {},
   "outputs": [
    {
     "name": "stdout",
     "output_type": "stream",
     "text": [
      "beverages ['chocDrinks', 'coffee', 'tea', 'soyDrinks', 'pop', 'soda']\n",
      "PhoneAccessories ['carrynCase', 'earpiece', 'scrnGuards']\n",
      "toiletries ['toiletPaper', 'bodySoap', 'scrubs', 'bodyCream', 'shampoo']\n",
      "pastry ['pizza', 'burgers', 'donuts', 'muffins', 'cheesecakes']\n",
      "cosmetics ['perfumes', 'vanishes', 'nailPolish', 'deodorants', 'facialScrubs']\n"
     ]
    }
   ],
   "source": [
    "'''accessing the dictionary to get the products and the items'''\n",
    "\n",
    "for k, v in prodDict.items():\n",
    "    print(k,v)"
   ]
  },
  {
   "cell_type": "code",
   "execution_count": 11,
   "id": "b602fe82",
   "metadata": {},
   "outputs": [
    {
     "name": "stdout",
     "output_type": "stream",
     "text": [
      "Enter Product: drinks\n",
      "drinks cannot be found in the inventory. Do you want to add it?\n"
     ]
    }
   ],
   "source": [
    "# 4. Loop through any kind of product from the dictionary and check its corresponding inventory\n",
    "'''Creating a function that receives input and returns output'''\n",
    "\n",
    "def prodInvent(product):\n",
    "    for k,v in prodDict.items():\n",
    "        category=k\n",
    "        prodList=v\n",
    "        prodQty=' '\n",
    "        if product in prodList:\n",
    "            if category=='beverages':\n",
    "                prodQty= bevDict[product]\n",
    "                return prodQty\n",
    "            elif category=='PhoneAccessories':\n",
    "                prodQty= phoneAccDict[product]\n",
    "                return prodQty\n",
    "            elif category=='toiletries':\n",
    "                prodQty= toiDict[product]\n",
    "                return prodQty\n",
    "            elif category=='pastry':\n",
    "                prodQty= pasDict[product]\n",
    "                return prodQty\n",
    "            elif category=='cosmetics':\n",
    "                prodQty= cosDict[product]\n",
    "                return prodQty\n",
    "    return None\n",
    "\n",
    "'''Automatically checking for the inventory of any kind of product'''\n",
    "\n",
    "sampleProd= input('Enter Product: ')\n",
    "prodCount=prodInvent(sampleProd)\n",
    "if (prodCount is None):\n",
    "    print (f'{sampleProd} cannot be found in the inventory. Do you want to add it?')\n",
    "else:  \n",
    "    print (f'The current inventory for {sampleProd} is {prodCount}')"
   ]
  },
  {
   "cell_type": "markdown",
   "id": "80cc942e",
   "metadata": {},
   "source": [
    "##### 1.2. Inventory Updates\n",
    "###### 1.2.1. Product Restocking\n",
    "Flow: \n",
    "Check if the product is in the dictionary. If found, reference the corresponding dictionary, and increment the quantity by the new quantity added "
   ]
  },
  {
   "cell_type": "code",
   "execution_count": 14,
   "id": "f05d7fe8",
   "metadata": {},
   "outputs": [
    {
     "name": "stdout",
     "output_type": "stream",
     "text": [
      "Enter Product: coffee\n",
      "Enter Quantity: 2\n",
      "Successfully Updated\n",
      "coffee has been updated from 50 to 52\n"
     ]
    }
   ],
   "source": [
    "# Check if the product is in the inventory. If found, reference \n",
    "# the corresponding dictionary, and increment the quantity by the new quantity added \n",
    "'''Creating a function that can restock products in the inventory'''\n",
    "\n",
    "'''Code:'''\n",
    "def incUpdateInvent(prod, qty):\n",
    "    for k,v in prodDict.items():\n",
    "        \n",
    "        category=k\n",
    "        prodList=v\n",
    "        \n",
    "        if prod in prodList:\n",
    "            \n",
    "            if category=='beverages':\n",
    "                oldQty= bevDict[prod]\n",
    "                bevDict[prod]+= qty  #Incrementing the bevDict with the new quantity added\n",
    "                # OR bevDict['prod']= bevDict['prod'] + qty\n",
    "                print ('Successfully Updated')\n",
    "                return [oldQty,bevDict[prod]]\n",
    "            \n",
    "            elif category=='PhoneAccessories':\n",
    "                oldQty= phoneAccDict[prod]\n",
    "                phoneAccDict[prod]+= qty  #Incrementing the phoneAccDict with the new quantity added\n",
    "                # OR phoneAccDict['prod']= phoneAccDict['prod'] + qty\n",
    "                print ('Successfully Updated')\n",
    "                return [oldQty,bevDict[prod]]\n",
    "            \n",
    "            elif category=='toiletries':\n",
    "                oldQty= toiDict[prod]\n",
    "                toiDict[prod]+= qty  #Incrementing the toiDict with the new quantity added\n",
    "                # OR toiDict['prod']= toiDict['prod'] + qty\n",
    "                print ('Successfully Updated')\n",
    "                return [oldQty,toiDict[prod]]\n",
    "            \n",
    "            elif category=='pastry':\n",
    "                oldQty= pasDict[prod]\n",
    "                pasDict[prod]+= qty  #Incrementing the pasDict with the new quantity added\n",
    "                # OR pasDict['prod']= pasDict['prod'] + qty\n",
    "                print ('Successfully Updated')\n",
    "                return [oldQty,pasDict[prod]]\n",
    "            \n",
    "            elif category=='cosmetics':\n",
    "                oldQty= cosDict[prod]\n",
    "                cosDict[prod]+= qty  #Incrementing the cosDict with the new quantity added\n",
    "                # OR cosDict['prod']= cosDict['prod'] + qty\n",
    "                print ('Successfully Updated')\n",
    "                return [oldQty,cosDict[prod]]   \n",
    "        else:\n",
    "            return [None, None]\n",
    "\n",
    "        \n",
    "'''Testing...'''\n",
    "\n",
    "newProd= input('Enter Product: ')\n",
    "quantity= int(input('Enter Quantity: '))\n",
    "oldQty, newQty= incUpdateInvent(newProd, quantity)\n",
    "if (oldQty is None):\n",
    "    print(f'{newProd} cannot be found in the inventory. Do you want to add as a new product?')\n",
    "\n",
    "else:\n",
    "    print(f'{newProd} has been updated from {oldQty} to {newQty}')"
   ]
  },
  {
   "cell_type": "markdown",
   "id": "2dd62a89",
   "metadata": {},
   "source": [
    "###### 1.2.2. Sales Reduction\n",
    "Flow: Check if the product is in the dictionary. If found, reference the corresponding dictionary, and decrease the quantity by the new quantity sold"
   ]
  },
  {
   "cell_type": "code",
   "execution_count": 15,
   "id": "bb30b2ab",
   "metadata": {},
   "outputs": [
    {
     "name": "stdout",
     "output_type": "stream",
     "text": [
      "Enter Product: soyDrinks\n",
      "Enter Quantity: 12\n",
      "Successfully Updated\n",
      "soyDrinks has been updated from 15 to 3\n"
     ]
    }
   ],
   "source": [
    "# Check if the product is in the dictionary. If found, reference the corresponding dictionary, \n",
    "# and decrease the quantity by the new quantity sold\n",
    "'''Creating a function that computes sales reduction in the inventory'''\n",
    "\n",
    "'''Code:'''\n",
    "def decUpdateInvent(prod, qty): # Updating decreasing inventory\n",
    "    for k,v in prodDict.items():\n",
    "        \n",
    "        category=k\n",
    "        prodList=v\n",
    "        \n",
    "        if prod in prodList:\n",
    "            \n",
    "            if category=='beverages':\n",
    "                oldQty= bevDict[prod]\n",
    "                bevDict[prod]-= qty  #Decreasing the bevDict with the quantity deducted\n",
    "                # OR bevDict['prod']= bevDict['prod'] - qty\n",
    "                print ('Successfully Updated')\n",
    "                return [oldQty,bevDict[prod]]\n",
    "            \n",
    "            elif category=='PhoneAccessories':\n",
    "                oldQty= phoneAccDict[prod]\n",
    "                phoneAccDict[prod]-= qty  #Decreasing the bevDict with the quantity deducted\n",
    "                # OR phoneAccDict['prod']= phoneAccDict['prod'] - qty\n",
    "                print ('Successfully Updated')\n",
    "                return [oldQty,bevDict[prod]]\n",
    "            \n",
    "            elif category=='toiletries':\n",
    "                oldQty= toiDict[prod]\n",
    "                toiDict[prod]-= qty  #Decreasing the bevDict with the quantity deducted\n",
    "                # OR toiDict['prod']= toiDict['prod'] - qty\n",
    "                print ('Successfully Updated')\n",
    "                return [oldQty,toiDict[prod]]\n",
    "            \n",
    "            elif category=='pastry':\n",
    "                oldQty= pasDict[prod]\n",
    "                pasDict[prod]-= qty  #Incrementing the pasDict with the new quantity added\n",
    "                # OR pasDict['prod']= pasDict['prod'] - qty\n",
    "                print ('Successfully Updated')\n",
    "                return [oldQty,pasDict[prod]]\n",
    "            \n",
    "            elif category=='cosmetics':\n",
    "                oldQty= cosDict[prod]\n",
    "                cosDict[prod]-= qty  #Decreasing the bevDict with the quantity deducted\n",
    "                # OR cosDict['prod']= cosDict['prod'] - qty\n",
    "                print ('Successfully Updated')\n",
    "                return [oldQty,cosDict[prod]]   \n",
    "        else:\n",
    "            return [None, None]\n",
    "\n",
    "        \n",
    "'''Testing...'''\n",
    "\n",
    "newProd= input('Enter Product: ')\n",
    "quantity= int(input('Enter Quantity: '))\n",
    "oldQty, newQty= decUpdateInvent(newProd, quantity)\n",
    "if (oldQty is None):\n",
    "    print(f'{newProd} cannot be found in the inventory. Please try again')\n",
    "\n",
    "else:\n",
    "    print(f'{newProd} has been updated from {oldQty} to {newQty}')"
   ]
  },
  {
   "cell_type": "markdown",
   "id": "715ee986",
   "metadata": {},
   "source": [
    "###### 1.2.3.  Raise an alert if any product inventory falls below 5 pieces\n",
    "Flow:\n",
    "Create a function that checks product availability in the inventory. If below 5, raise an alert to restock."
   ]
  },
  {
   "cell_type": "code",
   "execution_count": 17,
   "id": "301de70f",
   "metadata": {},
   "outputs": [
    {
     "name": "stdout",
     "output_type": "stream",
     "text": [
      "enter product:  soyDrinks\n",
      "soyDrinks is running out of stock!\n"
     ]
    }
   ],
   "source": [
    "# Create a function that checks product availability in the inventory. \n",
    "# If below 5, raise an alert to restock.\n",
    "\n",
    "def checkinventory(prod):\n",
    "    '''this function will accepts a product name and check if it is available in the inventory \n",
    "    list, if found, it will return the current quantity in the inventory.'''\n",
    "\n",
    "    if prod in prodDict['beverages']:\n",
    "        return bevDict[prod]\n",
    "    if prod in prodDict['phoneAcces']:\n",
    "        return phoneAccDict[prod]\n",
    "    if prod in prodDict['toiletries']:\n",
    "        return toiDict[prod]\n",
    "    if prod in prodDict['pastry']:\n",
    "        return pasDict[prod]\n",
    "    if prod in prodDict['cosmetics']:\n",
    "        return cosDict[prod]\n",
    "\n",
    "'''Testing...'''\n",
    "\n",
    "prodAlert = input('enter product:  ')\n",
    "\n",
    "prodCount = checkinventory(prodAlert)\n",
    "qty= 5\n",
    "if prodCount>qty:\n",
    "    print (prodCount)\n",
    "else:\n",
    "    print(f'{prodAlert} is running out of stock!')"
   ]
  },
  {
   "cell_type": "markdown",
   "id": "b5f2cffd",
   "metadata": {},
   "source": [
    "###### 1.2.4. Create a new category for the items not found\n",
    "Flow: \n",
    "If not found, prompt the user to choose a category to add the product, and update the corresponding dictionary with the product and inventory"
   ]
  },
  {
   "cell_type": "code",
   "execution_count": 23,
   "id": "f20079d8",
   "metadata": {},
   "outputs": [
    {
     "name": "stdout",
     "output_type": "stream",
     "text": [
      "Enter a New Category: kitchenDict\n",
      "Enter Product names: knife,spoon,fork,pot,frying pan\n"
     ]
    }
   ],
   "source": [
    "# If not found, prompt the user to choose a category to add the product, \n",
    "# and update the corresponding dictionary with the product and inventory\n",
    "''' Implementation of functionality for adding new categories'''\n",
    "\n",
    "'''Code: First create a function that allows user to create a new product category'''\n",
    "prodCat=list(prodCat)\n",
    "def catCreator (catName, prodInvList):\n",
    "    \n",
    "    newDict ={}\n",
    "    if catName in prodCat: #Testing that the proposed category does not exist\n",
    "        print(f'{catName} already exists')\n",
    "    else:\n",
    "        prodCat.append(catName) # Adding new category to the category list\n",
    "        prodDict[catName]= prodInvList # Assigning a product list to the new category\n",
    "        invName= catName[0:3] + 'Dict' # Creating new category dictionary\n",
    "        \n",
    "        if len(prodInvList)>1:\n",
    "            for item in prodInvList:\n",
    "                newDict[item]= 0 # For each product in a category, initialize it with zero\n",
    "        elif len(prodInvList)== 1:\n",
    "            newDict[prodInvList[0]]= 0\n",
    "    \n",
    "        else:\n",
    "            print('Cannot create the inventory dictionary. Check the product list')\n",
    "  \n",
    "        misDict[invName]= newDict\n",
    "    return [newDict, prodDict]\n",
    "\n",
    "newCatName= input('Enter a New Category: ')\n",
    "newProdList= input('Enter Product names: ')\n",
    "prodPart= newProdList.split(',')\n",
    "newCAT=  catCreator (newCatName, prodPart)"
   ]
  },
  {
   "cell_type": "code",
   "execution_count": 24,
   "id": "3466623a",
   "metadata": {},
   "outputs": [
    {
     "data": {
      "text/plain": [
       "{'toyDict': {'teddy bear': 0, 'water gun': 0, 'doll': 0},\n",
       " 'kitDict': {'knife': 0, 'spoon': 0, 'fork': 0, 'pot': 0, 'frying pan': 0}}"
      ]
     },
     "execution_count": 24,
     "metadata": {},
     "output_type": "execute_result"
    }
   ],
   "source": [
    "misDict"
   ]
  },
  {
   "cell_type": "code",
   "execution_count": 25,
   "id": "51190dcf",
   "metadata": {},
   "outputs": [
    {
     "data": {
      "text/plain": [
       "[{'knife': 0, 'spoon': 0, 'fork': 0, 'pot': 0, 'frying pan': 0},\n",
       " {'beverages': ['chocDrinks', 'coffee', 'tea', 'soyDrinks', 'pop', 'soda'],\n",
       "  'PhoneAccessories': ['carrynCase', 'earpiece', 'scrnGuards'],\n",
       "  'toiletries': ['toiletPaper', 'bodySoap', 'scrubs', 'bodyCream', 'shampoo'],\n",
       "  'pastry': ['pizza', 'burgers', 'donuts', 'muffins', 'cheesecakes'],\n",
       "  'cosmetics': ['perfumes',\n",
       "   'vanishes',\n",
       "   'nailPolish',\n",
       "   'deodorants',\n",
       "   'facialScrubs'],\n",
       "  'toyDict': ['teddy bear', 'water gun', 'doll'],\n",
       "  'kitchenDict': ['knife', 'spoon', 'fork', 'pot', 'frying pan']}]"
      ]
     },
     "execution_count": 25,
     "metadata": {},
     "output_type": "execute_result"
    }
   ],
   "source": [
    "newCAT"
   ]
  },
  {
   "cell_type": "code",
   "execution_count": 26,
   "id": "f93a086a",
   "metadata": {},
   "outputs": [
    {
     "data": {
      "text/plain": [
       "{'knife': 0, 'spoon': 0, 'fork': 0, 'pot': 0, 'frying pan': 0}"
      ]
     },
     "execution_count": 26,
     "metadata": {},
     "output_type": "execute_result"
    }
   ],
   "source": [
    "newCAT[0]"
   ]
  },
  {
   "cell_type": "markdown",
   "id": "d6adf4a6",
   "metadata": {},
   "source": [
    "#### 2. SALES RECEIPT GENERATION"
   ]
  },
  {
   "cell_type": "markdown",
   "id": "8c4a9978",
   "metadata": {},
   "source": [
    "##### 2.1. Compute sales by items and for total items\n",
    "Flow:\n",
    "1. Create a dictionary for the selling price of each products in the inventory\n",
    "2. Allow the store owner to enter sales per item for each customer and generate a total sales"
   ]
  },
  {
   "cell_type": "code",
   "execution_count": 27,
   "id": "3bc5e108",
   "metadata": {},
   "outputs": [],
   "source": [
    "# 1. Create a dictionary for the selling price of each products in the inventory\n",
    "\n",
    "bevSpDict= {'chocDrinks':250, 'coffee':300, 'tea':850, 'soyDrinks':400, 'pop':280, 'soda':220}\n",
    "phoneAccSpDict= {'carrynCase':2200, 'earpiece':250, 'scrnGuards':300}\n",
    "toiSpDict= {'toiletPaper':300, 'bodySoap':480, 'scrubs':1200, 'bodyCream':850, 'shampoo':1350}\n",
    "pasSpDict= {'pizza':4500, 'burgers':1000, 'donuts':200, 'muffins':1600,'cheesecakes':1800}\n",
    "cosSpDict={'perfumes':2800, 'vanishes':650, 'nailPolish':350, 'deodorants':1750, 'facialScrubs':1200}"
   ]
  },
  {
   "cell_type": "code",
   "execution_count": 28,
   "id": "7bfd4a89",
   "metadata": {},
   "outputs": [],
   "source": [
    "# 2. Allow the store owner to enter sales per item for each customer and generate a total sales\n",
    "''' Function to calculate the sales of products in the inventory'''\n",
    "''' Code:'''\n",
    "\n",
    "def prodSales (prod, qty):\n",
    "    \n",
    "    sp= ''\n",
    "    totalSales=''\n",
    "    if prod in prodDict['beverages']:\n",
    "        sp= bevSpDict[prod]\n",
    "        totalSales=sp*qty\n",
    "        #return totalSales\n",
    "    \n",
    "    if prod in prodDict['PhoneAccessories']:\n",
    "        sp= phoneAccSpDict[prod]\n",
    "        totalSales=sp*qty\n",
    "        #return totalSales\n",
    "    \n",
    "    if prod in prodDict['toiletries']:\n",
    "        sp= toiSpDict[prod]\n",
    "        totalSales=sp*qty\n",
    "        #return totalSales\n",
    "    \n",
    "    if prod in prodDict['pastry']:\n",
    "        sp= pasSpDict[prod]\n",
    "        totalSales=sp*qty\n",
    "        #return totalSales\n",
    "    \n",
    "    if prod in prodDict['cosmetics']:\n",
    "        sp= cosSpDict[prod]\n",
    "        totalSales=sp*qty\n",
    "    return [sp, totalSales]\n",
    "\n",
    "def salesFunc():\n",
    "    itemList= input('Enter the list of products: ')\n",
    "    itemQty= input('Enter the quantity for each products: ')\n",
    "    salesDict=dict()\n",
    "    prodts=itemList.split(',')\n",
    "    qtyList=itemQty.split(',')\n",
    "    qtys=[]\n",
    "    \n",
    "    for qty in qtyList:\n",
    "        qtys.append(float(qty))\n",
    "    print(prodts)\n",
    "    print(qtys)\n",
    "    for p,q in zip(prodts, qtys):\n",
    "        print(p,q)\n",
    "        prodTSales= prodSales (p,q)\n",
    "        print(prodTSales)\n",
    "        unitPrice=prodTSales[0]\n",
    "        tSales=prodTSales[1]\n",
    "        salesDict[p]=[p, q, unitPrice, tSales]\n",
    "    return salesDict"
   ]
  },
  {
   "cell_type": "code",
   "execution_count": 29,
   "id": "98cd09c3",
   "metadata": {},
   "outputs": [
    {
     "name": "stdout",
     "output_type": "stream",
     "text": [
      "Enter the list of products: soyDrinks,coffee,tea,perfumes,pizza,earpiece\n",
      "Enter the quantity for each products: 2,6,4,5,7,9\n",
      "['soyDrinks', 'coffee', 'tea', 'perfumes', 'pizza', 'earpiece']\n",
      "[2.0, 6.0, 4.0, 5.0, 7.0, 9.0]\n",
      "soyDrinks 2.0\n",
      "[400, 800.0]\n",
      "coffee 6.0\n",
      "[300, 1800.0]\n",
      "tea 4.0\n",
      "[850, 3400.0]\n",
      "perfumes 5.0\n",
      "[2800, 14000.0]\n",
      "pizza 7.0\n",
      "[4500, 31500.0]\n",
      "earpiece 9.0\n",
      "[250, 2250.0]\n"
     ]
    },
    {
     "data": {
      "text/plain": [
       "{'soyDrinks': ['soyDrinks', 2.0, 400, 800.0],\n",
       " 'coffee': ['coffee', 6.0, 300, 1800.0],\n",
       " 'tea': ['tea', 4.0, 850, 3400.0],\n",
       " 'perfumes': ['perfumes', 5.0, 2800, 14000.0],\n",
       " 'pizza': ['pizza', 7.0, 4500, 31500.0],\n",
       " 'earpiece': ['earpiece', 9.0, 250, 2250.0]}"
      ]
     },
     "execution_count": 29,
     "metadata": {},
     "output_type": "execute_result"
    }
   ],
   "source": [
    "salesFunc()"
   ]
  },
  {
   "cell_type": "markdown",
   "id": "7052d07c",
   "metadata": {},
   "source": [
    "##### 2.2. Update inventory and sales record per item and generate receipt\n",
    "Flow: \n",
    "Create a table containing the sales records per item; the quantity, unit price and total sales of all items"
   ]
  },
  {
   "cell_type": "code",
   "execution_count": 31,
   "id": "fe1fbf28",
   "metadata": {},
   "outputs": [
    {
     "name": "stdout",
     "output_type": "stream",
     "text": [
      "Enter the list of products: soyDrinks,coffee,tea,perfumes,pizza,earpiece,deodorants\n",
      "Enter the quantity for each products: 3,4,4,6,6,7,8\n",
      "['soyDrinks', 'coffee', 'tea', 'perfumes', 'pizza', 'earpiece', 'deodorants']\n",
      "[3.0, 4.0, 4.0, 6.0, 6.0, 7.0, 8.0]\n",
      "soyDrinks 3.0\n",
      "[400, 1200.0]\n",
      "coffee 4.0\n",
      "[300, 1200.0]\n",
      "tea 4.0\n",
      "[850, 3400.0]\n",
      "perfumes 6.0\n",
      "[2800, 16800.0]\n",
      "pizza 6.0\n",
      "[4500, 27000.0]\n",
      "earpiece 7.0\n",
      "[250, 1750.0]\n",
      "deodorants 8.0\n",
      "[1750, 14000.0]\n",
      "        Items  Quantity  Selling Price  Total Sales\n",
      "0   soyDrinks       3.0            400       1200.0\n",
      "1      coffee       4.0            300       1200.0\n",
      "2         tea       4.0            850       3400.0\n",
      "3    perfumes       6.0           2800      16800.0\n",
      "4       pizza       6.0           4500      27000.0\n",
      "5    earpiece       7.0            250       1750.0\n",
      "6  deodorants       8.0           1750      14000.0\n"
     ]
    },
    {
     "data": {
      "text/html": [
       "<div>\n",
       "<style scoped>\n",
       "    .dataframe tbody tr th:only-of-type {\n",
       "        vertical-align: middle;\n",
       "    }\n",
       "\n",
       "    .dataframe tbody tr th {\n",
       "        vertical-align: top;\n",
       "    }\n",
       "\n",
       "    .dataframe thead th {\n",
       "        text-align: right;\n",
       "    }\n",
       "</style>\n",
       "<table border=\"1\" class=\"dataframe\">\n",
       "  <thead>\n",
       "    <tr style=\"text-align: right;\">\n",
       "      <th></th>\n",
       "      <th>Items</th>\n",
       "      <th>Quantity</th>\n",
       "      <th>Selling Price</th>\n",
       "      <th>Total Sales</th>\n",
       "    </tr>\n",
       "  </thead>\n",
       "  <tbody>\n",
       "    <tr>\n",
       "      <th>0</th>\n",
       "      <td>soyDrinks</td>\n",
       "      <td>3.0</td>\n",
       "      <td>400</td>\n",
       "      <td>1200.0</td>\n",
       "    </tr>\n",
       "    <tr>\n",
       "      <th>1</th>\n",
       "      <td>coffee</td>\n",
       "      <td>4.0</td>\n",
       "      <td>300</td>\n",
       "      <td>1200.0</td>\n",
       "    </tr>\n",
       "    <tr>\n",
       "      <th>2</th>\n",
       "      <td>tea</td>\n",
       "      <td>4.0</td>\n",
       "      <td>850</td>\n",
       "      <td>3400.0</td>\n",
       "    </tr>\n",
       "    <tr>\n",
       "      <th>3</th>\n",
       "      <td>perfumes</td>\n",
       "      <td>6.0</td>\n",
       "      <td>2800</td>\n",
       "      <td>16800.0</td>\n",
       "    </tr>\n",
       "    <tr>\n",
       "      <th>4</th>\n",
       "      <td>pizza</td>\n",
       "      <td>6.0</td>\n",
       "      <td>4500</td>\n",
       "      <td>27000.0</td>\n",
       "    </tr>\n",
       "    <tr>\n",
       "      <th>5</th>\n",
       "      <td>earpiece</td>\n",
       "      <td>7.0</td>\n",
       "      <td>250</td>\n",
       "      <td>1750.0</td>\n",
       "    </tr>\n",
       "    <tr>\n",
       "      <th>6</th>\n",
       "      <td>deodorants</td>\n",
       "      <td>8.0</td>\n",
       "      <td>1750</td>\n",
       "      <td>14000.0</td>\n",
       "    </tr>\n",
       "    <tr>\n",
       "      <th>7</th>\n",
       "      <td>Total</td>\n",
       "      <td></td>\n",
       "      <td></td>\n",
       "      <td>65350.0</td>\n",
       "    </tr>\n",
       "  </tbody>\n",
       "</table>\n",
       "</div>"
      ],
      "text/plain": [
       "        Items Quantity Selling Price  Total Sales\n",
       "0   soyDrinks      3.0           400       1200.0\n",
       "1      coffee      4.0           300       1200.0\n",
       "2         tea      4.0           850       3400.0\n",
       "3    perfumes      6.0          2800      16800.0\n",
       "4       pizza      6.0          4500      27000.0\n",
       "5    earpiece      7.0           250       1750.0\n",
       "6  deodorants      8.0          1750      14000.0\n",
       "7       Total                             65350.0"
      ]
     },
     "execution_count": 31,
     "metadata": {},
     "output_type": "execute_result"
    }
   ],
   "source": [
    "# Create a table containing the sales records per item; \n",
    "# the quantity, unit price and total sales of all items\n",
    "'''First import pandas library and create a dataframe for receipt generation'''\n",
    "\n",
    "import pandas as pd\n",
    "sales= salesFunc()\n",
    "salesList = list(sales.values())\n",
    "df= pd.DataFrame(salesList, columns=['Items','Quantity','Selling Price','Total Sales'])\n",
    "print (df)\n",
    "total= sum(df['Total Sales'])\n",
    "dfArr=df.values.tolist()\n",
    "dfArr.append(['Total','','',total])\n",
    "\n",
    "df= pd.DataFrame(dfArr, columns=['Items','Quantity','Selling Price','Total Sales'])\n",
    "df"
   ]
  }
 ],
 "metadata": {
  "kernelspec": {
   "display_name": "Python 3 (ipykernel)",
   "language": "python",
   "name": "python3"
  },
  "language_info": {
   "codemirror_mode": {
    "name": "ipython",
    "version": 3
   },
   "file_extension": ".py",
   "mimetype": "text/x-python",
   "name": "python",
   "nbconvert_exporter": "python",
   "pygments_lexer": "ipython3",
   "version": "3.9.12"
  }
 },
 "nbformat": 4,
 "nbformat_minor": 5
}
